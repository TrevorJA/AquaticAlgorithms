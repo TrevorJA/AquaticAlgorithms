{
 "cells": [
  {
   "attachments": {},
   "cell_type": "markdown",
   "metadata": {},
   "source": [
    "## Introduction to Python\n",
    "\n",
    "### Outline:\n",
    "0. Python & Jupyter Notebooks Explained\n",
    "1. Data types\n",
    "2. If statements and for loops\n",
    "3. Writing custom functions\n",
    "4. Common packages\n",
    "    4.1 Numpy\n",
    "    4.2 Pandas\n",
    "    4.3 Matplotlib\n",
    "5. Resources\n",
    "\n",
    "Let's get started!"
   ]
  },
  {
   "attachments": {},
   "cell_type": "markdown",
   "metadata": {},
   "source": [
    "## 0: Python & Jupyter Notebooks Explained\n",
    "\n",
    "Welcome to the world of Python (and coding more broadly)!\n"
   ]
  },
  {
   "attachments": {},
   "cell_type": "markdown",
   "metadata": {},
   "source": [
    "## 1: Data types\n",
    "\n",
    "We are able to easily work with different types of data in Python code.\n",
    "\n",
    "The basic types of data that you will encouter are:\n",
    "- Strings (anything in quotation marks)\n",
    "- Integers (any whole number)\n",
    "- Floats (any decimal number)\n",
    "- Boolean (True of False)\n",
    "- None (as the name implies... None)\n",
    "\n"
   ]
  },
  {
   "attachments": {},
   "cell_type": "markdown",
   "metadata": {},
   "source": [
    "## 2: If statements and for loops\n",
    "\n",
    "This part is important... but you may benefit from learning how to do these things more efficiently."
   ]
  },
  {
   "attachments": {},
   "cell_type": "markdown",
   "metadata": {},
   "source": [
    "## 3: Writing custom functions\n",
    "\n"
   ]
  },
  {
   "attachments": {},
   "cell_type": "markdown",
   "metadata": {},
   "source": [
    "Now that you've got the basic idea, how about you go ahead and write your own custom function? "
   ]
  },
  {
   "cell_type": "code",
   "execution_count": null,
   "metadata": {},
   "outputs": [],
   "source": [
    "def my_function():\n",
    "    \n",
    "    # Enter your own code here...\n",
    "    \n",
    "    return # Should it return any info?\n",
    "\n",
    "\n",
    "## Time to test your function!\n",
    "my_function()"
   ]
  },
  {
   "attachments": {},
   "cell_type": "markdown",
   "metadata": {},
   "source": [
    "Great! Maybe it worked, or maybe it didn't work on the first try. Is there anything that you'd like to improve about it? Feel free to go back to the cell above and make modifcations and run it again."
   ]
  },
  {
   "attachments": {},
   "cell_type": "markdown",
   "metadata": {},
   "source": [
    "## 4: Importing packages\n",
    "\n",
    "Custom functions opens up the door to a whole lot of possibilites.  However, it may not always make sense to write a function if someone else has already done it for you!\n",
    "\n",
    "\"Packages\" are simply sets of public, open-source code that we can use for our own purposes.  \n",
    "\n",
    "Here, I will share what are likely the 3 most popular/common Python packages that exist, including:\n",
    "\n",
    "1. `numpy`\n",
    "\n",
    "Numpy is a package that allows you to do all sorts of different math operations easily.\n",
    "\n",
    "2. `pandas`\n",
    "\n",
    "Pandas is a package for storing data, and performing different math operations, in a more organized way; think of Pandas as being more similar to a Microsoft Excel table, since it can store all sorts of different data like text and numbers in the same \"DataFrame\".  More on this below.\n",
    "\n",
    "3. `matplotlib`\n",
    "\n",
    "Matplotlib is the quitesential *data visualization* (or plotting) package. This is used to make different types of figures, and is flexible enough to make some very cool artwork if you learn how to use it properly. \n",
    "\n",
    "We will start with `numpy`!\n"
   ]
  },
  {
   "attachments": {},
   "cell_type": "markdown",
   "metadata": {},
   "source": [
    "### 4.1: `numpy`\n",
    "\n"
   ]
  },
  {
   "attachments": {},
   "cell_type": "markdown",
   "metadata": {},
   "source": []
  }
 ],
 "metadata": {
  "kernelspec": {
   "display_name": "Python 3",
   "language": "python",
   "name": "python3"
  },
  "language_info": {
   "codemirror_mode": {
    "name": "ipython",
    "version": 3
   },
   "file_extension": ".py",
   "mimetype": "text/x-python",
   "name": "python",
   "nbconvert_exporter": "python",
   "pygments_lexer": "ipython3",
   "version": "3.10.10"
  },
  "orig_nbformat": 4
 },
 "nbformat": 4,
 "nbformat_minor": 2
}
