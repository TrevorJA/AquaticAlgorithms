{
 "cells": [
  {
   "attachments": {},
   "cell_type": "markdown",
   "metadata": {},
   "source": [
    "# Aquatic Algorithms Part 0: Introduction to Python\n",
    "\n",
    "### Outline:\n",
    "0: [Python & Jupyter Notebooks Explained](#0-python--jupyter-notebooks-explained)\n",
    "1: [Python for beginners]()\n",
    "2. If statements and for loops\n",
    "3. Writing custom functions\n",
    "4. Common packages\n",
    "    4.1 Numpy\n",
    "    4.2 Pandas\n",
    "    4.3 Matplotlib\n",
    "5. Resources\n",
    "\n",
    "Let's get started!"
   ]
  },
  {
   "attachments": {},
   "cell_type": "markdown",
   "metadata": {},
   "source": [
    "## 0: Python & Jupyter Notebooks Explained\n",
    "\n",
    "Welcome to the world of Python (and coding more broadly)!\n",
    "\n",
    "\n",
    "## Using Jupyter Notebooks\n",
    "Jupyter is an online computer \"notebook\" that enables modular coding in Python, R, and Julia (among others). There are four important actions you will be using throughout the course via Jupter:\n",
    "\n",
    "### Creating code blocks\n",
    "You can create code blocks in four ways:\n",
    "1. Press `Ctrl+Alt+Enter` on your keyboard\n",
    "2. Click on the 'Insert code cell' that appears at the bottom of your current cell\n",
    "3. Click on the 'Add code cell' that appears at the bottom of your notebook page\n",
    "4. Click on the plus `+` symbol that appears at the top-right of your current cell\n",
    "\n",
    "You can move these blocks further up or down by clicking on the three horizontal dots (the menu) that appear on the top-right of your current cell and selecting either 'Move cell up' (`Ctrl+Shift+$\\uparrow$`) or 'Move cell down' (`Ctrl+Shift+$\\downarrow$`).\n",
    "\n",
    "### Markdown blocks\n",
    "You can modify markdown text, use numbered or point-form lists, or insert code snippets and equations using the options available on the top-left of the markdown cell. [A handy markdown cheatsheet can be found here](https://www.markdownguide.org/cheat-sheet/).\n",
    "\n",
    "Let's try creating some markdown text!\n",
    "\n",
    "# One hash for section headings \n",
    "## Two hashes for subsection headings \n",
    "### Three for subsubsection headings\n",
    "...and four is too many\n",
    "\n",
    "Here are some other useful markdown functions:\n",
    "* You can use \"* \" or \"- \" to list items\n",
    "* Backticks `your code here` can be used to highlight code\n",
    "* Create bold or italic text by hitting `Ctrl+b` or `Ctrl+i` respectively. Alternatively, you can wrap your text with two asterisks for **bold font**, or one asterisk for *italic font*.\n",
    "* Skip one line to begin a new paragraph\n",
    "* Type as usual for other text. \n",
    "\n",
    "Double-click on this cell to view these functions (and more) in action!"
   ]
  },
  {
   "attachments": {},
   "cell_type": "markdown",
   "metadata": {},
   "source": [
    "## Python for beginners\n",
    "\n",
    "### 1.1: Data types\n",
    "\n",
    "\n",
    "### 1.2: Basic Math\n",
    "\n",
    "Add: `+` adds two numbers together.\n",
    "Subtract: `-` subtracts one number from another.\n",
    "Multiply: `*` multiplies two numbers.\n",
    "Divide: `/` divides one number by another.\n",
    "Exponent: `**` raises a number to a power.\n",
    "\n",
    "### 1.3: Print statements\n",
    "\n",
    "When writing Python code, it is often useful to display information on the screen. The `print()` function allows us to output text or the values of variables to the console. We can use it to communicate with the user or to debug our code by printing the values of certain variables at specific points in the program.\n",
    "\n",
    "The `print()` function accepts one or more arguments, which can be strings, variables, or even expressions. It automatically converts non-string values into strings and displays them on separate lines by default.\n",
    "\n",
    "Using `print()` statements helps us understand how our program is executing and verify that the values we are working with are correct.\n",
    "\n",
    "### 1.4: Writing custom functions\n",
    "\n",
    "Functions in Python are blocks of reusable code that perform a specific task. They help organize our code, make it easier to read and understand, and promote code reusability. By defining our own custom functions, we can encapsulate a set of instructions and execute them whenever needed.\n",
    "\n",
    "To define a function, we use the def keyword followed by the function name and a pair of parentheses. Inside the parentheses, we can define parameters that the function can accept. These parameters act as placeholders for values that we can pass when calling the function.\n",
    "\n",
    "Within the function body, we write the instructions that we want the function to perform. We can use variables, loops, conditional statements, and other constructs to accomplish our desired task.\n",
    "\n",
    "Custom functions are called by using their name followed by parentheses. We can pass arguments to the function if it expects any. The function then executes the instructions inside its body and can optionally return a value.\n",
    "\n",
    "### 1.5: `if` statements and `for` loops\n",
    "\n",
    "This part is important... but you may benefit from learning how to do these things more efficiently."
   ]
  },
  {
   "attachments": {},
   "cell_type": "markdown",
   "metadata": {},
   "source": [
    "## 2: If statements and for loops\n",
    "\n",
    "\n",
    "We are able to easily work with different types of data in Python code.\n",
    "\n",
    "The basic types of data that you will encouter are:\n",
    "- Strings (anything in quotation marks)\n",
    "- Integers (any whole number)\n",
    "- Floats (any decimal number)\n",
    "- Boolean (True of False)\n",
    "- None (as the name implies... None)\n",
    "- Lists \n",
    "- Dictionaries"
   ]
  },
  {
   "attachments": {},
   "cell_type": "markdown",
   "metadata": {},
   "source": [
    "## 3: Writing custom functions\n",
    "\n",
    "\n"
   ]
  },
  {
   "cell_type": "code",
   "execution_count": 1,
   "metadata": {},
   "outputs": [
    {
     "name": "stdout",
     "output_type": "stream",
     "text": [
      "Hello world!\n"
     ]
    }
   ],
   "source": [
    "# Define the function which prints a message\n",
    "def hello_world():\n",
    "    print('Hello world!')\n",
    "    return\n",
    "\n",
    "# \"Call\" the function see the message...\n",
    "hello_world()"
   ]
  },
  {
   "attachments": {},
   "cell_type": "markdown",
   "metadata": {},
   "source": [
    "Below, I demonstrate a very basic function called `add_numbers()` which simply takes two numbers and adds them together."
   ]
  },
  {
   "cell_type": "code",
   "execution_count": 3,
   "metadata": {},
   "outputs": [
    {
     "name": "stdout",
     "output_type": "stream",
     "text": [
      "The sum of the two number is: 3\n"
     ]
    }
   ],
   "source": [
    "def add_numbers(x, y):\n",
    "    result = x + y\n",
    "    return result\n",
    "\n",
    "result = add_numbers(1, 2)\n",
    "print(f'The sum of the two number is: {result}')"
   ]
  },
  {
   "attachments": {},
   "cell_type": "markdown",
   "metadata": {},
   "source": [
    "Now that you've got the basic idea, how about you go ahead and write your own custom function? "
   ]
  },
  {
   "cell_type": "code",
   "execution_count": null,
   "metadata": {},
   "outputs": [],
   "source": [
    "def my_function():\n",
    "    \n",
    "    # Enter your own code here...\n",
    "    \n",
    "    return # Should it return any info?\n",
    "\n",
    "\n",
    "## Time to test your function!\n",
    "my_function()"
   ]
  },
  {
   "attachments": {},
   "cell_type": "markdown",
   "metadata": {},
   "source": [
    "Great! Maybe it worked, or maybe it didn't work on the first try. Is there anything that you'd like to improve about it? Feel free to go back to the cell above and make modifcations and run it again."
   ]
  },
  {
   "attachments": {},
   "cell_type": "markdown",
   "metadata": {},
   "source": [
    "## 4: Importing packages\n",
    "\n",
    "A Python library or packge is a \"bundle\" of useful functions, usually used for the same general purpose (plotting figures, performing statistical analysis, scraping data from the web, etc.). Packages are simply sets of public, open-source code that we can use for our own purposes.  \n",
    "\n",
    "You can \"import\" a package/library and then use all of the functions available in that library.\n",
    "\n",
    "\n",
    "Custom functions opens up the door to a whole lot of possibilites.  However, it may not always make sense to write a function if someone else has already done it for you!\n",
    "\n",
    "Here, I will share what are likely the 3 most popular/common Python packages that exist, including:\n",
    "\n",
    "1. `numpy`\n",
    "\n",
    "Numpy is a package that allows you to do all sorts of different math operations easily.\n",
    "\n",
    "2. `pandas`\n",
    "\n",
    "Pandas is a package for storing data, and performing different math operations, in a more organized way; think of Pandas as being more similar to a Microsoft Excel table, since it can store all sorts of different data like text and numbers in the same \"DataFrame\".  More on this below.\n",
    "\n",
    "3. `matplotlib`\n",
    "\n",
    "Matplotlib is the quitesential *data visualization* (or plotting) package. This is used to make different types of figures, and is flexible enough to make some very cool artwork if you learn how to use it properly. \n",
    "\n",
    "We will start with `numpy`!\n"
   ]
  },
  {
   "attachments": {},
   "cell_type": "markdown",
   "metadata": {},
   "source": [
    "### 4.1: `numpy`\n",
    "\n",
    "Numerical Python (NumPy) is one of the fundamental packages that you will be using a lot throughout this semester. It's mainly used for scientific computing. It provides convenient and efficient ways to manipulate data in arrays, as well as conduct vector operations. You can refer to its [Documentation page](https://numpy.org/doc/stable/) for more detailed information.\n",
    "\n",
    "Before we can achieve anything remotely productive, we first need to import the Numpy package.\n"
   ]
  },
  {
   "cell_type": "code",
   "execution_count": null,
   "metadata": {},
   "outputs": [],
   "source": [
    "import numpy as np"
   ]
  },
  {
   "attachments": {},
   "cell_type": "markdown",
   "metadata": {},
   "source": [
    "Now that is is loaded, we can use any of Numpy's functions by using the code `np.function_name()`.\n",
    "\n",
    "Let's start by first getting comfortable with the idea of a `numpy.array` which is an \"object\" datatype unique to Numpy.  Arrays are essentially *matrices* or *vectors* which are just different ways to organize data.  Think of the array as being similar to the `list()` variables discussed above, but now that can have multiple dimensions (a vector is 1-dimension, a matrix is 2-dimensions)\n",
    "\n",
    "The `np.array()`"
   ]
  },
  {
   "cell_type": "code",
   "execution_count": null,
   "metadata": {},
   "outputs": [],
   "source": [
    "mylist = [1, 2, 3]\n",
    "\n",
    "mylist = [1, 2, 3]\n",
    "x = np.array(mylist)\n",
    "\n",
    "m = np.array([[7, 8, 9], [10, 11, 12]])\n",
    "\n",
    "number_range = np.arange(0,10,20)\n"
   ]
  },
  {
   "attachments": {},
   "cell_type": "markdown",
   "metadata": {},
   "source": [
    "Use the `shape` method to find the dimensions of the array which will be output as (rows, columns)"
   ]
  },
  {
   "attachments": {},
   "cell_type": "markdown",
   "metadata": {},
   "source": [
    "The `arange` function returns evenly-spaced values within a given interval."
   ]
  },
  {
   "cell_type": "code",
   "execution_count": null,
   "metadata": {},
   "outputs": [],
   "source": [
    "a = np.array([-4, -2, 1, 3, 5])\n",
    "a.sum()\n",
    "a.max()\n",
    "a.min()\n",
    "a.mean()\n",
    "a.std()\n",
    "a.argmax()\n",
    "a.argmin()\n"
   ]
  },
  {
   "attachments": {},
   "cell_type": "markdown",
   "metadata": {},
   "source": [
    "### 4.2: `pandas`\n",
    "\n",
    "\n",
    "### DataFrames\n",
    "A DataFrame is a data structure that organizes data into a 2-dimensional table of rows and columns, much like a spreadsheet. DataFrames are one of the most common data structures used in modern data analytics because they are a flexible and intuitive way of storing and working with data.\n",
    "\n",
    "In this course, you might be required to access information within a provided dataframe. There are several ways to select, extract, filter, add, change and delete data within a Pandas dataframe. Let's explore a few methods below:\n",
    "\n",
    "You can select and access data by using square brackets `[]` or by using the `.iloc[]` method"
   ]
  },
  {
   "cell_type": "code",
   "execution_count": null,
   "metadata": {},
   "outputs": [],
   "source": [
    "import pandas as pd"
   ]
  },
  {
   "attachments": {},
   "cell_type": "markdown",
   "metadata": {},
   "source": []
  },
  {
   "cell_type": "code",
   "execution_count": null,
   "metadata": {},
   "outputs": [],
   "source": [
    "df.head()"
   ]
  },
  {
   "attachments": {},
   "cell_type": "markdown",
   "metadata": {},
   "source": [
    "### 4.3: `matplotlib`\n",
    "\n",
    "Matplotlib is a Python library that enables the creation of both static and interactive visualizations. Its full documentation and helpful tutorials can be found [here](https://matplotlib.org/stable/users/index.html). It can be imported into your notebook using the following line:\n",
    "\n",
    "The most reliable way to create a plot using Matplotlib is via the `subplots()` function. The demonstration below shows you how to generate a simple scatter plot, label its axes, as well as create a plot title and legend."
   ]
  },
  {
   "cell_type": "code",
   "execution_count": null,
   "metadata": {},
   "outputs": [],
   "source": [
    "# Import the library and call it \"plt\"; this is the common name\n",
    "import matplotlib.pyplot as plt"
   ]
  },
  {
   "cell_type": "code",
   "execution_count": null,
   "metadata": {},
   "outputs": [],
   "source": [
    "# dataset-1\n",
    "x1 = [89, 43, 36, 36, 95, 10, 66, 34, 38, 20]\n",
    "y1 = [21, 46, 3, 35, 67, 95, 53, 72, 58, 10]\n",
    " \n",
    "# dataset2\n",
    "x2 = [26, 29, 48, 64, 6, 5, 36, 66, 72, 40]\n",
    "y2 = [26, 34, 90, 33, 38, 20, 56, 2, 47, 15]\n",
    "\n",
    "# Generate our points for the first set of data\n",
    "plt.scatter(x1, y1, c =\"pink\",\n",
    "            linewidths = 2,\n",
    "            marker =\"s\",\n",
    "            edgecolor =\"green\",\n",
    "            s = 50, label=\"First dataset\")\n",
    "\n",
    "# Generate points for our second set of data\n",
    "plt.scatter(x2, y2, c =\"yellow\",\n",
    "            linewidths = 2,\n",
    "            marker =\"^\",\n",
    "            edgecolor =\"red\",\n",
    "            s = 200, label='Second dataset')\n",
    "\n",
    "# Add our X and Y Labels\n",
    "plt.xlabel(\"X-axis\")\n",
    "plt.ylabel(\"Y-axis\")\n",
    "plt.legend()\n",
    "plt.show() # Display the graph"
   ]
  },
  {
   "attachments": {},
   "cell_type": "markdown",
   "metadata": {},
   "source": [
    "#### Color-coding graphs\n",
    "The application of color gradients is useful to demonstrate three different information types on a two-dimensional plot. There are two important functions to note if you are considering the use of a color gradient:\n",
    "1. `plt.colormaps(cmap_name)` Gets the name of the colormap you are using for your data\n",
    "2. `plt.colorbar()` Adds a colorbar to your plot"
   ]
  },
  {
   "cell_type": "code",
   "execution_count": 5,
   "metadata": {},
   "outputs": [
    {
     "data": {
      "image/png": "[encoded data removed]",
      "text/plain": [
       "<Figure size 640x480 with 2 Axes>"
      ]
     },
     "metadata": {},
     "output_type": "display_data"
    }
   ],
   "source": [
    "import numpy as np\n",
    "import matplotlib.pyplot as plt\n",
    "\n",
    "# Matplotlib color gradient example\n",
    "x = np.arange(30)\n",
    "y = x**3\n",
    "t = x\n",
    "\n",
    "plt.scatter(x, y, c=t)\n",
    "plt.colorbar()\n",
    "plt.show()"
   ]
  },
  {
   "attachments": {},
   "cell_type": "markdown",
   "metadata": {},
   "source": []
  }
 ],
 "metadata": {
  "kernelspec": {
   "display_name": "Python 3",
   "language": "python",
   "name": "python3"
  },
  "language_info": {
   "codemirror_mode": {
    "name": "ipython",
    "version": 3
   },
   "file_extension": ".py",
   "mimetype": "text/x-python",
   "name": "python",
   "nbconvert_exporter": "python",
   "pygments_lexer": "ipython3",
   "version": "3.10.10"
  },
  "orig_nbformat": 4
 },
 "nbformat": 4,
 "nbformat_minor": 2
}
