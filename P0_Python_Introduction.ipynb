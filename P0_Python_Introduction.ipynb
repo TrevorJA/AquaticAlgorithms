{
 "cells": [
  {
   "attachments": {},
   "cell_type": "markdown",
   "metadata": {},
   "source": [
    "# Aquatic Algorithms Part 0: Introduction to Python\n",
    "\n",
    "### Outline:\n",
    "0: [Python & Jupyter Notebooks Explained](#0-jupyter-notebooks-explained)\n",
    "1: [Python for beginners](#1-python-for-beginners)\n",
    "2. [If statements and for loops](#2-if-statements-and-for-loops)\n",
    "3. [Writing custom functions](#3-writing-custom-functions)\n",
    "4. [Importing packages](#4-importing-packages)\n",
    "    4.1 [Numpy](#41-numpy)\n",
    "    4.2 [Pandas](#42-pandas)\n",
    "    4.3 [Matplotlib](#43-matplotlib)\n",
    "\n",
    "\n",
    "Let's get started!"
   ]
  },
  {
   "attachments": {},
   "cell_type": "markdown",
   "metadata": {},
   "source": [
    "## 0: Jupyter Notebooks Explained\n",
    "\n",
    "You are currently reading a ***Jupyter Notebook.*** \n",
    "\n",
    "Jupyter is an online computer \"notebook\" that enables modular coding in Python. That means that we can run small chunks of code one-at-a-time, which is easier when you are first getting started. \n",
    "\n",
    "Jupyter Notebook files end in `.ipynb`.  Other Python files we use in this course will end in `.py`.  We will learn how interact with different files later in this course... for now we will focus on the Jupyter Notebook.\n",
    "\n",
    "Each Jupyter Notebook consists of two parts: Markdown blocks, and Code cells.\n",
    "\n",
    "You can find the `+ Code` and `+ Markdown` buttons at the top of the page, and you will use them frequently. "
   ]
  },
  {
   "cell_type": "markdown",
   "metadata": {},
   "source": [
    "### Markdown blocks\n",
    "\n",
    "You are currently reading a markdown block.  [*Markdown*](https://en.wikipedia.org/wiki/Markdown) is just a type text format which.  It lets you do a few things like *italics*, **bold font**, and [links (try clicking on this text).](https://en.wikipedia.org/wiki/Capybara#/media/File:Capybara_(Hydrochoerus_hydrochaeris).JPG)\n",
    "\n",
    ">*Try double-clicking on this markdown cell to see how it is written...*\n",
    "\n",
    "Press `Shift+Enter` to \"run\" the markdown cell and turn it back into the *rendered* reading mode.\n",
    "\n",
    "You do ***not*** need to learn the details of markdown, I will just be using it to add instructions, resources, and images to the notebooks throughout the course.  \n",
    "\n",
    "However you can always add a markdown block to your down notebook if you want to take notes.  If you do want to learn more about how to add style to the markdown, you can check out the following guides:\n",
    "- [A handy markdown cheatsheet can be found here](https://www.markdownguide.org/cheat-sheet/).\n",
    "- And Google Colab has a [Markdown guide notebook linked here.](https://colab.research.google.com/notebooks/markdown_guide.ipynb)\n"
   ]
  },
  {
   "cell_type": "markdown",
   "metadata": {},
   "source": [
    "### Code cells\n",
    "\n",
    "A \"Code Cell\" in a Jupyter Notebook are where all the fancy stuff happens.  Each Code Cell is able to run a small piece of Python code.  \n",
    "\n",
    "Anytime you want to \"run\" a Code Cell you should press `Shift + Enter` buttons at the same time.  \n",
    "\n",
    "Try running the following Code Cell:"
   ]
  },
  {
   "cell_type": "code",
   "execution_count": null,
   "metadata": {},
   "outputs": [],
   "source": [
    "def hello_world():\n",
    "\tprint('Hello, World!')\n",
    "\treturn\n",
    "\n",
    "hello_world()"
   ]
  },
  {
   "cell_type": "markdown",
   "metadata": {},
   "source": [
    "Great! You should see \"Hello, World!\" below the cell; that is where the *output* will show when you print something to the screen.  \n",
    "\n",
    "Now that you have some idea of how this Notebook works, let's actually learn some Python!"
   ]
  },
  {
   "attachments": {},
   "cell_type": "markdown",
   "metadata": {},
   "source": [
    "## 1.0: Python for beginners\n",
    "\n",
    "\n",
    "### 1.1: Data types\n",
    "\n",
    "There are many different variable types in Python code, it is important to know what you are working with or else it will get confusing.  \n",
    "\n",
    "The basic types of data that you will encounter are:\n",
    "\n",
    "| Data Type    | Description                                     | Example                                      |\n",
    "| ------------ | ----------------------------------------------- | -------------------------------------------- |\n",
    "| Strings      | Words, or anything in quotes                    | `\"cat\"`, `'cat'`, `\"0.1\"`, `\"or a sentence\"` |\n",
    "| Integers     | Whole numbers                                   | `1`, `2`, `3`                                |\n",
    "| Floats       | Decimal numbers                                 | `1.0`, `0.333`, `1/2`                        |\n",
    "| Boolean      | True or False                                   | `True`, `False`                              |\n",
    "| Lists        | Things (strings, numbers) contained in `[]`     | `[1,2,3]`, `['cat', 'dog']`                  |\n",
    "| Dictionaries | Things contained in `{}` with `key:value` pairs | `{'name': 'Jill', 'age': 24}`                |\n",
    "| None         | Like the name implies... none.                  | `None`                                       | \n",
    "\n",
    "To check the type of some variable named `my_variable`, use the function `type(my_variable)`.\n",
    "\n",
    "\n",
    "### 1.2: Basic Math\n",
    "\n",
    "Remember your [PEMDAS](https://www.mathnasium.com/eagan/news/what-pemdas-e) rules... the same rules are used in Python.  \n",
    "\n",
    "| Function | Code Syntax | Examples                      |\n",
    "| -------- | ----------- | ----------------------------- |\n",
    "| Add      | `+`         | `2+2`, `\"cat\"+\"dog\"=\"catdog\"` |\n",
    "| Subtract | `-`         | `5-3`                         |\n",
    "| Multiply | `*`         | `5*3`, `[1]*3=[1,1,1]*`       |\n",
    "| Divide   | `/`         | `1/2`                         |\n",
    "| Exponent | `**`        | `2**2`                        |\n",
    "\n",
    "If you are ever unsure if the code you are using is doing the math you want it to do, I suggest making a new code cell and testing a very basic version of it!\n",
    "\n",
    "\n",
    "### 1.3: Print statements and f-strings\n",
    "\n",
    "When writing Python code, it is often useful to display information on the screen. The `print()` function allows us to output text or the values of variables to the console. We can use it to communicate with the user or to debug our code by printing the values of certain variables at specific points in the program.\n",
    "\n",
    "The `print()` function takes a string (\"example\") and displays it on the screen when the code is run. It automatically converts non-string values into strings and displays them on separate lines by default.\n",
    "\n",
    "Using `print()` statements helps us understand how our program is executing and check things along the way.  This is particularly true when combined with f-strings. \n",
    "\n",
    "An f-string is a string which contains a variable inside the string; Python will insert the variable into the string before printing the statement.  This is a great way to de-bug your code, and is important for being able to solve problems and understand what is happening inside the code. \n",
    "\n",
    "An example of an f-string is:"
   ]
  },
  {
   "cell_type": "code",
   "execution_count": null,
   "metadata": {},
   "outputs": [],
   "source": [
    "your_name= \"BLANK\"\n",
    "print(f'Hello, nice to meet you {your_name}!')"
   ]
  },
  {
   "cell_type": "markdown",
   "metadata": {},
   "source": [
    "Or you can do more fancy f-strings which use `if` statements (we will learn about these in a few minutes), or any other piece of code inside the `{}`:"
   ]
  },
  {
   "cell_type": "code",
   "execution_count": null,
   "metadata": {},
   "outputs": [],
   "source": [
    "error = 0.1\n",
    "print(f'Test passed: {True if error < 1 else False}')"
   ]
  },
  {
   "cell_type": "markdown",
   "metadata": {},
   "source": [
    "### 1.4: Writing custom functions\n",
    "\n",
    "One of the most important things when coding is using *functions.*\n",
    "\n",
    "These are similar to the functions you know from math class.  You give the function an *input* and it gives you back an *output*.  We can write a function in math-language using the $f()$ notation, where $x$ is the input and $y$ is the output:\n",
    "$$y = f(x)$$\n",
    "For example, this is a very simple function:\n",
    "$$y = 2 \\times x$$ \n",
    "Now, we can write *function* in Python which do the same thing.  You give them some inputs and they give you back an output.  \n",
    "\n",
    "The simple function above can be written in code like this:\n"
   ]
  },
  {
   "cell_type": "code",
   "execution_count": null,
   "metadata": {},
   "outputs": [],
   "source": [
    "def my_function(x):\n",
    "\ty = 2 * x\n",
    "\treturn y"
   ]
  },
  {
   "cell_type": "markdown",
   "metadata": {},
   "source": [
    "We can then use the function by giving it the input (in python we call these ***arguments***).  Let's use the function to calculate the output for `x=10`:"
   ]
  },
  {
   "cell_type": "code",
   "execution_count": null,
   "metadata": {},
   "outputs": [],
   "source": [
    "output= my_function(x=10)\n",
    "print(f'Output={output}')"
   ]
  },
  {
   "attachments": {},
   "cell_type": "markdown",
   "metadata": {},
   "source": [
    "Right on, you've used your first custom function.  Let's take some time to learn more about functions, since they are very important for code. \n",
    "\n",
    "> Functions in Python are blocks of reusable code that perform a specific task. \n",
    "\n",
    "Functions help organize our code, make it easier to read and understand, and promote code *reusability*. By defining our own custom functions, we can repeat a process many different times. \n",
    "\n",
    "To define a function, we use the `def` keyword followed by the function name and a pair of parentheses. Inside the parentheses, we can define *arguments* that the function can uses. \n",
    "\n",
    "Inside the function, we write the **instructions** (code) that we want the function to do. We can use any type of Python code inside the function to help with the task.\n",
    "\n",
    "At the end of the function you should use the `return` keyword to end the function. Any variables that are after the `return` will be *returned* as outputs for the function.  \n",
    "\n",
    "You can return many different variables (they will output in the way you tell them to), and the variables can be different data types!  For an example of a more complicated function consider the code below... \n",
    "\n",
    "The function has one *argument* which is a list of numbers.  The function then gets the minimum and maximum values in the list and returns both the min and max separately. \n"
   ]
  },
  {
   "cell_type": "code",
   "execution_count": null,
   "metadata": {},
   "outputs": [],
   "source": [
    "def get_min_max(numbers):\n",
    "\tminimum= min(numbers)\n",
    "\tmaximum= max(numbers)\n",
    "\tmean = sum(numbers)/len(numbers)\n",
    "\treturn minimum, maximum\n",
    "\n",
    "# Test the function\n",
    "my_numbers= [2, 9.5, 1, 11, 0.3, 7.1]\n",
    "my_min, my_max = get_min_max(my_numbers)"
   ]
  },
  {
   "cell_type": "markdown",
   "metadata": {},
   "source": [
    "Try experimenting with designing your own custom function using the template below, using any of the things we learned so far!"
   ]
  },
  {
   "cell_type": "code",
   "execution_count": null,
   "metadata": {},
   "outputs": [],
   "source": [
    "def my_function(var1, var2, var3)\n",
    "\t#\n",
    "\t# Write your code here!\n",
    "\t#\n",
    "\treturn # Do you want to return any values?\n",
    "\n",
    "# Test your function\n",
    "my_function()"
   ]
  },
  {
   "cell_type": "markdown",
   "metadata": {},
   "source": [
    "Take a minute to think about your function and if it makes sense... is it doing what you want?  Maybe try to make a more complicated version."
   ]
  },
  {
   "attachments": {},
   "cell_type": "markdown",
   "metadata": {},
   "source": [
    "\n",
    "### 1.5 Indexing\n",
    "\n",
    "When working with ordered collections of items in Python, such as lists, understanding indexing is essential. \n",
    "\n",
    "> Indexing is the way we refer to the position of an item in the collection. \n",
    "\n",
    "Python uses a method known as zero-based indexing. \n",
    "\n",
    "#### 1.5.1 Zero-based indexing\n",
    "\n",
    "*In some languages, counting starts at 1, but in Python, it starts at 0.* This is known as zero-based indexing. That means the first item in a list is at position 0, the second item is at position 1, the third item is at position 2, and so on.\n",
    "\n",
    "When we want to access a specific item inside a list, we use the *index* of that item inside of square brackets.  \n",
    "\n",
    "In the example below, I made a list called `pets`, and then access different items inside the list:\n",
    "\n"
   ]
  },
  {
   "cell_type": "code",
   "execution_count": 1,
   "metadata": {},
   "outputs": [
    {
     "name": "stdout",
     "output_type": "stream",
     "text": [
      "Hello world!\n"
     ]
    }
   ],
   "source": [
    "# Make an example list\n",
    "pets= ['dog', 'cat', 'snake', 'lizard', 'hamster']\n",
    "\n",
    "print(f'The value at index {0} is: {pets[0]}')"
   ]
  },
  {
   "attachments": {},
   "cell_type": "markdown",
   "metadata": {},
   "source": [
    "#### 1.5.2 Indexing a range of values\n",
    "\n",
    "Instead of choosing just one value with one index, I can use a range of indices like this: `start_index:end_index`:"
   ]
  },
  {
   "cell_type": "code",
   "execution_count": 3,
   "metadata": {},
   "outputs": [
    {
     "name": "stdout",
     "output_type": "stream",
     "text": [
      "The sum of the two number is: 3\n"
     ]
    }
   ],
   "source": [
    "print(f'The first three pets are: {pets[0:3]}')"
   ]
  },
  {
   "attachments": {},
   "cell_type": "markdown",
   "metadata": {},
   "source": [
    "Indexing is very important for any type of data science, since we always need to be sure that we are accessing and using the correct values inside of our lists... and these lists may get very long!\n",
    "\n",
    "Later, we will use much more fancy ways of indexing, but for now this is a decent intro. \n"
   ]
  },
  {
   "cell_type": "markdown",
   "metadata": {},
   "source": [
    "### 1.6: `if` statements and `for` loops\n",
    "\n",
    "If-statements and for-loops are one of those things that are common for all different types of coding languages, not just Python.  These are some of the most basic tools used when coding. \n",
    "\n",
    "Before getting started, take a break!\n",
    "***\n"
   ]
  },
  {
   "cell_type": "markdown",
   "metadata": {},
   "source": [
    "#### 1.6.1 if statements\n",
    "\n",
    "`if` statements in Python let our program make decisions. They're like crossroads where our program can take different paths based on certain conditions.\n",
    "\n",
    "An `if` statement starts with the word `if`, followed by a condition. This condition is a statement that can be either True or False, much like a yes or no question. If the condition is True, the program will run the code that comes right after it. If the condition is False, the program will skip this code and move on.\n",
    "\n",
    "For example, you could use an `if` statement to check if someone is old enough to drive. If their age is 18 or above, your program would say they can drive. If they're younger than 18, your program would say they can't."
   ]
  },
  {
   "cell_type": "code",
   "execution_count": null,
   "metadata": {},
   "outputs": [],
   "source": [
    "# Let's assign a variable called 'age'\n",
    "age = 17\n",
    "\n",
    "# We can set a condition to check if someone is allowed to drive\n",
    "if age >= 16:\n",
    "    print(\"You are eligible to drive.\")\n",
    "else:\n",
    "    print(\"You are not eligible to drive.\")"
   ]
  },
  {
   "attachments": {},
   "cell_type": "markdown",
   "metadata": {},
   "source": [
    "This code will output \"You are not eligible to drive.\" because the age (16) is not greater than or equal to 18.\n",
    "\n",
    "You can make your program even smarter by using `elif` (short for '*else if*') and `else` statements.\n",
    "\n",
    "The `elif` keyword lets your program check more conditions if the first one isn't True. The `else` statement is your last resort: if none of the conditions are True, the program will run the code after `else`."
   ]
  },
  {
   "cell_type": "code",
   "execution_count": null,
   "metadata": {},
   "outputs": [],
   "source": [
    "# Let's reuse the age variable with a new value\n",
    "if age >= 18:\n",
    "    print(\"You are eligible to vote and drive.\")\n",
    "elif age >= 16:\n",
    "    print(\"You are eligible to drive, but not vote.\")\n",
    "else:\n",
    "    print(\"You are not eligible to drive or vote.\")"
   ]
  },
  {
   "cell_type": "markdown",
   "metadata": {},
   "source": [
    "\n",
    "In these examples we have been checking if the value is *greater than or equal to* some other value.  But we can use different types of *conditions* in our code to make if fancier.\n",
    "\n",
    "Let's look at the various conditions that we can use in `if` statements:\n",
    "\n",
    "1. **Equality (`==`):** This checks if two values are equal. For instance, `if age == 18:` checks if the variable `age` is equal to 18.\n",
    "2. **Inequality (`!=`):** This checks if two values are not equal. For example, `if age != 18:` checks if the variable `age` is not equal to 18.\n",
    "3. **Less than (`<`):** This checks if a value is less than another. For instance, `if age < 18:` checks if `age` is less than 18.\n",
    "4. **Greater than (`>`):** This checks if a value is greater than another. For example, `if age > 18:` checks if `age` is greater than 18.\n",
    "5. **Less than or equal to (`<=`):** This checks if a value is less than or equal to another. For instance, `if age <= 18:` checks if `age` is less than or equal to 18.\n",
    "6. **Greater than or equal to (`>=`):** This checks if a value is greater than or equal to another. For example, `if age >= 18:` checks if `age` is greater than or equal to 18.\n",
    "\n",
    "We can also combine conditions using `and` and `or`:\n",
    "\n",
    "1. **and:** If you use `and` to combine conditions, both conditions must be True for the overall condition to be True. For instance, `if age > 13 and age < 20:` checks if `age` is greater than 13 and less than 20.\n",
    "2. **or:** If you use `or` to combine conditions, only one of the conditions needs to be True for the overall condition to be True. For example, `if age < 13 or age > 60:` checks if `age` is less than 13 or greater than 60.\n",
    "\n",
    "Ultimately, if-statements can be super helpful for making code more flexible and complicated. Be sure to pay attention when they are used in this Aquatic Algorithms course!\n",
    "\n",
    "#### 1.6.2 for-loops\n",
    "\n",
    "`for` loops are a powerful tool in Python that let us do something over and over again. It's like having a robot that can wash all the dishes or clean all the windows in your house, one by one.\n",
    "\n",
    "A `for` loop starts with the word `for`, followed by a temporary name we give to each item in our list (or any other collection of items). Then we use the word `in`, followed by the name of our collection. After that, we write the code we want to repeat, which will be applied to each item in the collection.\n",
    "\n",
    "For example, if you have a list of numbers and you want to add them all up, you could use a `for` loop. The loop would go through the list, take each number one by one, and add it to a total. Once the loop has visited each number, you can ask the program to show you the total sum."
   ]
  },
  {
   "cell_type": "code",
   "execution_count": null,
   "metadata": {},
   "outputs": [],
   "source": [
    "# Let's create a list of numbers\n",
    "numbers = [1, 2, 3, 4, 5]\n",
    "\n",
    "# Now, let's sum these numbers using a for loop\n",
    "total_sum = 0\n",
    "for num in numbers:\n",
    "    total_sum = total_sum + num\n",
    "\n",
    "print(f\"The sum of the numbers is {total_sum}.\")"
   ]
  },
  {
   "cell_type": "markdown",
   "metadata": {},
   "source": [
    "In this code, we add each number in the `numbers` list to the `sum` variable. After the `for` loop finishes processing each number, we print the final sum.\n",
    "\n",
    "Sometimes, we want to do something a specific number of times, even if we don't have a list. We can still use a `for` loop for this by combining it with the `range()` function. \n",
    "\n",
    "The `range(N)` function takes an integer value `N` as an input, and will give us a range of numbers from zero to N-1 (0,...,N-1). We can then use the `for` loop to repeat our code for each number in the range series.\n",
    "\n",
    "In the example below, I count how many numbers are in the list, then use the `range()` to loop `n` times through the list, and print the value in each index."
   ]
  },
  {
   "cell_type": "code",
   "execution_count": null,
   "metadata": {},
   "outputs": [],
   "source": [
    "# Check how many numbers there are: len() = length\n",
    "n_numbers= len(numbers)\n",
    "\n",
    "# Run a for-loop for each of the n_numbers\n",
    "for i in range(n_numbers):\n",
    "\t# Get the value of the i-th value\n",
    "    value= numbers[i]\n",
    "    print(f'The value in position {i} is: {value}')"
   ]
  },
  {
   "cell_type": "markdown",
   "metadata": {},
   "source": [
    "Now, before moving forward, notice that the first value in `numbers` is in position `0`... this is the zero-indexing we mentioned earlier!  "
   ]
  },
  {
   "attachments": {},
   "cell_type": "markdown",
   "metadata": {},
   "source": [
    "## 4: Importing packages\n",
    "\n",
    "A Python library or packge is a \"bundle\" of useful functions, usually used for the same general purpose (plotting figures, performing statistical analysis, scraping data from the web, etc.). Packages are simply sets of public, open-source code that we can use for our own purposes.  \n",
    "\n",
    "You can \"import\" a package/library and then use all of the functions available in that library.\n",
    "\n",
    "\n",
    "Custom functions opens up the door to a whole lot of possibilites.  However, it may not always make sense to write a function if someone else has already done it for you!\n",
    "\n",
    "Here, I will share what are likely the 3 most popular/common Python packages that exist, including:\n",
    "\n",
    "1. `numpy`\n",
    "\n",
    "Numpy is a package that allows you to do all sorts of different math operations easily.\n",
    "\n",
    "2. `pandas`\n",
    "\n",
    "Pandas is a package for storing data, and performing different math operations, in a more organized way; think of Pandas as being more similar to a Microsoft Excel table, since it can store all sorts of different data like text and numbers in the same \"DataFrame\".  More on this below.\n",
    "\n",
    "3. `matplotlib`\n",
    "\n",
    "Matplotlib is the quitesential *data visualization* (or plotting) package. This is used to make different types of figures, and is flexible enough to make some very cool artwork if you learn how to use it properly. \n",
    "\n",
    "We will start with `numpy`!\n"
   ]
  },
  {
   "attachments": {},
   "cell_type": "markdown",
   "metadata": {},
   "source": [
    "### 4.1: `numpy`\n",
    "\n",
    "Numerical Python (NumPy) is one of the fundamental packages that you will be using a lot throughout this semester. It's mainly used for scientific computing. It provides convenient and efficient ways to manipulate data in arrays, as well as conduct vector operations. You can refer to its [Documentation page](https://numpy.org/doc/stable/) for more detailed information.\n",
    "\n",
    "Before we can achieve anything remotely productive, we first need to import the Numpy package.\n"
   ]
  },
  {
   "cell_type": "code",
   "execution_count": null,
   "metadata": {},
   "outputs": [],
   "source": [
    "import numpy as np"
   ]
  },
  {
   "attachments": {},
   "cell_type": "markdown",
   "metadata": {},
   "source": [
    "Now that is is loaded, we can use any of Numpy's functions by using the code `np.function_name()`.\n",
    "\n",
    "Let's start by first getting comfortable with the idea of a `numpy.array` which is an \"object\" datatype unique to Numpy.  Arrays are essentially *matrices* or *vectors* which are just different ways to organize data.  Think of the array as being similar to the `list()` variables discussed above, but now that can have multiple dimensions (a vector is 1-dimension, a matrix is 2-dimensions)\n",
    "\n",
    "The `np.array()`"
   ]
  },
  {
   "cell_type": "code",
   "execution_count": null,
   "metadata": {},
   "outputs": [],
   "source": [
    "mylist = [1, 2, 3]\n",
    "\n",
    "mylist = [1, 2, 3]\n",
    "x = np.array(mylist)\n",
    "\n",
    "m = np.array([[7, 8, 9], [10, 11, 12]])\n",
    "\n",
    "number_range = np.arange(0,10,20)\n"
   ]
  },
  {
   "attachments": {},
   "cell_type": "markdown",
   "metadata": {},
   "source": [
    "Use the `shape` method to find the dimensions of the array which will be output as (rows, columns)"
   ]
  },
  {
   "attachments": {},
   "cell_type": "markdown",
   "metadata": {},
   "source": [
    "The `arange` function returns evenly-spaced values within a given interval."
   ]
  },
  {
   "cell_type": "code",
   "execution_count": null,
   "metadata": {},
   "outputs": [],
   "source": [
    "a = np.array([-4, -2, 1, 3, 5])\n",
    "a.sum()\n",
    "a.max()\n",
    "a.min()\n",
    "a.mean()\n",
    "a.std()\n",
    "a.argmax()\n",
    "a.argmin()\n"
   ]
  },
  {
   "attachments": {},
   "cell_type": "markdown",
   "metadata": {},
   "source": [
    "### 4.2: `pandas`\n",
    "\n",
    "\n",
    "### DataFrames\n",
    "A DataFrame is a data structure that organizes data into a 2-dimensional table of rows and columns, much like a spreadsheet. DataFrames are one of the most common data structures used in modern data analytics because they are a flexible and intuitive way of storing and working with data.\n",
    "\n",
    "In this course, you might be required to access information within a provided dataframe. There are several ways to select, extract, filter, add, change and delete data within a Pandas dataframe. Let's explore a few methods below:\n",
    "\n",
    "You can select and access data by using square brackets `[]` or by using the `.iloc[]` method"
   ]
  },
  {
   "cell_type": "code",
   "execution_count": null,
   "metadata": {},
   "outputs": [],
   "source": [
    "import pandas as pd"
   ]
  },
  {
   "attachments": {},
   "cell_type": "markdown",
   "metadata": {},
   "source": [
    "### 4.3: `matplotlib`\n",
    "\n",
    "Matplotlib is a Python library that enables the creation of both static and interactive visualizations. Its full documentation and helpful tutorials can be found [here](https://matplotlib.org/stable/users/index.html). It can be imported into your notebook using the following line:\n",
    "\n",
    "The most reliable way to create a plot using Matplotlib is via the `subplots()` function. The demonstration below shows you how to generate a simple scatter plot, label its axes, as well as create a plot title and legend."
   ]
  },
  {
   "cell_type": "code",
   "execution_count": null,
   "metadata": {},
   "outputs": [],
   "source": [
    "# Import the library and call it \"plt\"; this is the common name\n",
    "import matplotlib.pyplot as plt"
   ]
  },
  {
   "cell_type": "code",
   "execution_count": null,
   "metadata": {},
   "outputs": [],
   "source": [
    "# dataset-1\n",
    "x1 = [89, 43, 36, 36, 95, 10, 66, 34, 38, 20]\n",
    "y1 = [21, 46, 3, 35, 67, 95, 53, 72, 58, 10]\n",
    " \n",
    "# dataset2\n",
    "x2 = [26, 29, 48, 64, 6, 5, 36, 66, 72, 40]\n",
    "y2 = [26, 34, 90, 33, 38, 20, 56, 2, 47, 15]\n",
    "\n",
    "# Generate our points for the first set of data\n",
    "plt.scatter(x1, y1, c =\"pink\",\n",
    "            linewidths = 2,\n",
    "            marker =\"s\",\n",
    "            edgecolor =\"green\",\n",
    "            s = 50, label=\"First dataset\")\n",
    "\n",
    "# Generate points for our second set of data\n",
    "plt.scatter(x2, y2, c =\"yellow\",\n",
    "            linewidths = 2,\n",
    "            marker =\"^\",\n",
    "            edgecolor =\"red\",\n",
    "            s = 200, label='Second dataset')\n",
    "\n",
    "# Add our X and Y Labels\n",
    "plt.xlabel(\"X-axis\")\n",
    "plt.ylabel(\"Y-axis\")\n",
    "plt.legend()\n",
    "plt.show() # Display the graph"
   ]
  },
  {
   "attachments": {},
   "cell_type": "markdown",
   "metadata": {},
   "source": [
    "#### Color-coding graphs\n",
    "The application of color gradients is useful to demonstrate three different information types on a two-dimensional plot. There are two important functions to note if you are considering the use of a color gradient:\n",
    "1. `plt.colormaps(cmap_name)` Gets the name of the colormap you are using for your data\n",
    "2. `plt.colorbar()` Adds a colorbar to your plot"
   ]
  },
  {
   "cell_type": "code",
   "execution_count": 5,
   "metadata": {},
   "outputs": [
    {
     "data": {
      "image/png": "[encoded data removed]",
      "text/plain": [
       "<Figure size 640x480 with 2 Axes>"
      ]
     },
     "metadata": {},
     "output_type": "display_data"
    }
   ],
   "source": [
    "import numpy as np\n",
    "import matplotlib.pyplot as plt\n",
    "\n",
    "# Matplotlib color gradient example\n",
    "x = np.arange(30)\n",
    "y = x**3\n",
    "t = x\n",
    "\n",
    "plt.scatter(x, y, c=t)\n",
    "plt.colorbar()\n",
    "plt.show()"
   ]
  },
  {
   "attachments": {},
   "cell_type": "markdown",
   "metadata": {},
   "source": []
  }
 ],
 "metadata": {
  "kernelspec": {
   "display_name": "Python 3",
   "language": "python",
   "name": "python3"
  },
  "language_info": {
   "codemirror_mode": {
    "name": "ipython",
    "version": 3
   },
   "file_extension": ".py",
   "mimetype": "text/x-python",
   "name": "python",
   "nbconvert_exporter": "python",
   "pygments_lexer": "ipython3",
   "version": "3.10.10"
  },
  "orig_nbformat": 4
 },
 "nbformat": 4,
 "nbformat_minor": 2
}
