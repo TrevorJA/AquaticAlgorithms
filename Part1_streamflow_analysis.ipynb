{
 "cells": [
  {
   "attachments": {},
   "cell_type": "markdown",
   "metadata": {},
   "source": [
    "# Aquatic Algorithms Part 1: Streamflow analysis\n",
    "\n",
    "\n",
    "Before getting started with the code, vist the [USGS National Water Dashboard](https://dashboard.waterdata.usgs.gov/app/nwd/en/?region=lower48&aoi=default) and find your case study, then select one streamflow gauge to use for this analysis and assign it to the variable (`station_id`) below.\n",
    "\n",
    "> **Note:** This code, and others used during the internship will make different results based on \n",
    " \n"
   ]
  },
  {
   "cell_type": "code",
   "execution_count": null,
   "metadata": {},
   "outputs": [],
   "source": [
    "# Add your own gauge ID here (make sure it is a string):\n",
    "station_id = '04234000'\n",
    "\n",
    "# Add the time-range of interest\n",
    "dates = (\"2000-01-01\", \"2022-12-31\")"
   ]
  },
  {
   "attachments": {},
   "cell_type": "markdown",
   "metadata": {},
   "source": [
    "We can get streamflow from the USGS website directly, but this tends to be more difficult and requires manually manipulating the data before we can use it.  Fortunately, there is an open-source Python package called `pygeohydro` which makes it each retrieve streamflow data more easily.\n",
    "\n",
    "You can visit the [documentation for the PyGeoHydro](https://hyriver.readthedocs.io/en/latest/readme/pygeohydro.html) if you want to read more above the technical details at any point.\n",
    "\n",
    "Let's start by importing the `pygeohydro` library:"
   ]
  },
  {
   "cell_type": "code",
   "execution_count": null,
   "metadata": {},
   "outputs": [],
   "source": [
    "import pygeohydro as gh\n",
    "from pygeohydro import NWIS\n",
    "from pygeohydro import plot"
   ]
  },
  {
   "cell_type": "code",
   "execution_count": null,
   "metadata": {},
   "outputs": [],
   "source": [
    "# Request the flow data\n",
    "flow = NWIS().get_streamflow(station_id, dates, mmd=True)\n",
    "plot.signatures(flow)"
   ]
  },
  {
   "attachments": {},
   "cell_type": "markdown",
   "metadata": {},
   "source": [
    "\n"
   ]
  }
 ],
 "metadata": {
  "kernelspec": {
   "display_name": "Python 3",
   "language": "python",
   "name": "python3"
  },
  "language_info": {
   "name": "python",
   "version": "3.10.10"
  },
  "orig_nbformat": 4
 },
 "nbformat": 4,
 "nbformat_minor": 2
}
