{
 "cells": [
  {
   "attachments": {},
   "cell_type": "markdown",
   "metadata": {},
   "source": [
    "# Aquatic Algorithms Part 1: Streamflow analysis\n",
    "\n",
    "Step 0: Choose your case study location\n",
    "\n",
    "Step 1: Get the following data for your location:\n",
    "- Daily streamflow\n",
    "- Watershed geometry\n",
    "\n",
    "Step 2: Make plots of the streamflow and geometry\n",
    "\n",
    "Step 3: Get the minimum and maximum flow values from history\n",
    "\n",
    "First, run the folling cell to install the packages that are used in this activity\n"
   ]
  },
  {
   "cell_type": "code",
   "execution_count": 27,
   "metadata": {},
   "outputs": [
    {
     "name": "stdout",
     "output_type": "stream",
     "text": [
      "Requirement already satisfied: numpy in c:\\users\\tjame\\desktop\\personal\\aquaticalgorithms\\venv\\lib\\site-packages (1.25.0)\n",
      "Requirement already satisfied: matplotlib in c:\\users\\tjame\\desktop\\personal\\aquaticalgorithms\\venv\\lib\\site-packages (3.7.1)\n",
      "Requirement already satisfied: pandas in c:\\users\\tjame\\desktop\\personal\\aquaticalgorithms\\venv\\lib\\site-packages (2.0.3)\n",
      "Requirement already satisfied: geopandas in c:\\users\\tjame\\desktop\\personal\\aquaticalgorithms\\venv\\lib\\site-packages (0.13.2)\n",
      "Requirement already satisfied: pygeohydro in c:\\users\\tjame\\desktop\\personal\\aquaticalgorithms\\venv\\lib\\site-packages (0.15.0)\n",
      "Requirement already satisfied: pydaymet in c:\\users\\tjame\\desktop\\personal\\aquaticalgorithms\\venv\\lib\\site-packages (0.15.0)\n",
      "Requirement already satisfied: seaborn in c:\\users\\tjame\\desktop\\personal\\aquaticalgorithms\\venv\\lib\\site-packages (0.12.2)\n",
      "Requirement already satisfied: contourpy>=1.0.1 in c:\\users\\tjame\\desktop\\personal\\aquaticalgorithms\\venv\\lib\\site-packages (from matplotlib) (1.1.0)\n",
      "Requirement already satisfied: cycler>=0.10 in c:\\users\\tjame\\desktop\\personal\\aquaticalgorithms\\venv\\lib\\site-packages (from matplotlib) (0.11.0)\n",
      "Requirement already satisfied: fonttools>=4.22.0 in c:\\users\\tjame\\desktop\\personal\\aquaticalgorithms\\venv\\lib\\site-packages (from matplotlib) (4.40.0)\n",
      "Requirement already satisfied: kiwisolver>=1.0.1 in c:\\users\\tjame\\desktop\\personal\\aquaticalgorithms\\venv\\lib\\site-packages (from matplotlib) (1.4.4)\n",
      "Requirement already satisfied: packaging>=20.0 in c:\\users\\tjame\\desktop\\personal\\aquaticalgorithms\\venv\\lib\\site-packages (from matplotlib) (23.1)\n",
      "Requirement already satisfied: pillow>=6.2.0 in c:\\users\\tjame\\desktop\\personal\\aquaticalgorithms\\venv\\lib\\site-packages (from matplotlib) (10.0.0)\n",
      "Requirement already satisfied: pyparsing>=2.3.1 in c:\\users\\tjame\\desktop\\personal\\aquaticalgorithms\\venv\\lib\\site-packages (from matplotlib) (3.1.0)\n",
      "Requirement already satisfied: python-dateutil>=2.7 in c:\\users\\tjame\\desktop\\personal\\aquaticalgorithms\\venv\\lib\\site-packages (from matplotlib) (2.8.2)\n",
      "Requirement already satisfied: pytz>=2020.1 in c:\\users\\tjame\\desktop\\personal\\aquaticalgorithms\\venv\\lib\\site-packages (from pandas) (2023.3)\n",
      "Requirement already satisfied: tzdata>=2022.1 in c:\\users\\tjame\\desktop\\personal\\aquaticalgorithms\\venv\\lib\\site-packages (from pandas) (2023.3)\n",
      "Requirement already satisfied: fiona>=1.8.19 in c:\\users\\tjame\\desktop\\personal\\aquaticalgorithms\\venv\\lib\\site-packages (from geopandas) (1.9.4.post1)\n",
      "Requirement already satisfied: pyproj>=3.0.1 in c:\\users\\tjame\\desktop\\personal\\aquaticalgorithms\\venv\\lib\\site-packages (from geopandas) (3.6.0)\n",
      "Requirement already satisfied: shapely>=1.7.1 in c:\\users\\tjame\\desktop\\personal\\aquaticalgorithms\\venv\\lib\\site-packages (from geopandas) (2.0.1)\n",
      "Requirement already satisfied: async-retriever==0.15 in c:\\users\\tjame\\desktop\\personal\\aquaticalgorithms\\venv\\lib\\site-packages (from pygeohydro) (0.15.0)\n",
      "Requirement already satisfied: cytoolz in c:\\users\\tjame\\desktop\\personal\\aquaticalgorithms\\venv\\lib\\site-packages (from pygeohydro) (0.12.1)\n",
      "Requirement already satisfied: dask in c:\\users\\tjame\\desktop\\personal\\aquaticalgorithms\\venv\\lib\\site-packages (from pygeohydro) (2023.6.1)\n",
      "Requirement already satisfied: defusedxml in c:\\users\\tjame\\desktop\\personal\\aquaticalgorithms\\venv\\lib\\site-packages (from pygeohydro) (0.7.1)\n",
      "Requirement already satisfied: folium in c:\\users\\tjame\\desktop\\personal\\aquaticalgorithms\\venv\\lib\\site-packages (from pygeohydro) (0.14.0)\n",
      "Requirement already satisfied: h5netcdf in c:\\users\\tjame\\desktop\\personal\\aquaticalgorithms\\venv\\lib\\site-packages (from pygeohydro) (1.2.0)\n",
      "Requirement already satisfied: hydrosignatures==0.15 in c:\\users\\tjame\\desktop\\personal\\aquaticalgorithms\\venv\\lib\\site-packages (from pygeohydro) (0.15.0)\n",
      "Requirement already satisfied: pygeoogc==0.15 in c:\\users\\tjame\\desktop\\personal\\aquaticalgorithms\\venv\\lib\\site-packages (from pygeohydro) (0.15.0)\n",
      "Requirement already satisfied: pygeoutils==0.15 in c:\\users\\tjame\\desktop\\personal\\aquaticalgorithms\\venv\\lib\\site-packages (from pygeohydro) (0.15.0)\n",
      "Requirement already satisfied: pynhd==0.15 in c:\\users\\tjame\\desktop\\personal\\aquaticalgorithms\\venv\\lib\\site-packages (from pygeohydro) (0.15.0)\n",
      "Requirement already satisfied: rioxarray>=0.11 in c:\\users\\tjame\\desktop\\personal\\aquaticalgorithms\\venv\\lib\\site-packages (from pygeohydro) (0.14.1)\n",
      "Requirement already satisfied: scipy in c:\\users\\tjame\\desktop\\personal\\aquaticalgorithms\\venv\\lib\\site-packages (from pygeohydro) (1.11.1)\n",
      "Requirement already satisfied: ujson in c:\\users\\tjame\\desktop\\personal\\aquaticalgorithms\\venv\\lib\\site-packages (from pygeohydro) (5.8.0)\n",
      "Requirement already satisfied: xarray>=2022.03 in c:\\users\\tjame\\desktop\\personal\\aquaticalgorithms\\venv\\lib\\site-packages (from pygeohydro) (2023.6.0)\n",
      "Requirement already satisfied: aiohttp[speedups]>=3.8.3 in c:\\users\\tjame\\desktop\\personal\\aquaticalgorithms\\venv\\lib\\site-packages (from async-retriever==0.15->pygeohydro) (3.8.4)\n",
      "Requirement already satisfied: aiohttp-client-cache>=0.8.1 in c:\\users\\tjame\\desktop\\personal\\aquaticalgorithms\\venv\\lib\\site-packages (from async-retriever==0.15->pygeohydro) (0.8.1)\n",
      "Requirement already satisfied: aiosqlite in c:\\users\\tjame\\desktop\\personal\\aquaticalgorithms\\venv\\lib\\site-packages (from async-retriever==0.15->pygeohydro) (0.19.0)\n",
      "Requirement already satisfied: joblib in c:\\users\\tjame\\desktop\\personal\\aquaticalgorithms\\venv\\lib\\site-packages (from pygeoogc==0.15->pygeohydro) (1.3.1)\n",
      "Requirement already satisfied: multidict in c:\\users\\tjame\\desktop\\personal\\aquaticalgorithms\\venv\\lib\\site-packages (from pygeoogc==0.15->pygeohydro) (6.0.4)\n",
      "Requirement already satisfied: owslib>=0.27.2 in c:\\users\\tjame\\desktop\\personal\\aquaticalgorithms\\venv\\lib\\site-packages (from pygeoogc==0.15->pygeohydro) (0.29.2)\n",
      "Requirement already satisfied: requests in c:\\users\\tjame\\desktop\\personal\\aquaticalgorithms\\venv\\lib\\site-packages (from pygeoogc==0.15->pygeohydro) (2.31.0)\n",
      "Requirement already satisfied: requests-cache>=0.9.6 in c:\\users\\tjame\\desktop\\personal\\aquaticalgorithms\\venv\\lib\\site-packages (from pygeoogc==0.15->pygeohydro) (1.1.0)\n",
      "Requirement already satisfied: url-normalize>=1.4 in c:\\users\\tjame\\desktop\\personal\\aquaticalgorithms\\venv\\lib\\site-packages (from pygeoogc==0.15->pygeohydro) (1.4.3)\n",
      "Requirement already satisfied: urllib3 in c:\\users\\tjame\\desktop\\personal\\aquaticalgorithms\\venv\\lib\\site-packages (from pygeoogc==0.15->pygeohydro) (2.0.3)\n",
      "Requirement already satisfied: yarl in c:\\users\\tjame\\desktop\\personal\\aquaticalgorithms\\venv\\lib\\site-packages (from pygeoogc==0.15->pygeohydro) (1.9.2)\n",
      "Requirement already satisfied: netcdf4 in c:\\users\\tjame\\desktop\\personal\\aquaticalgorithms\\venv\\lib\\site-packages (from pygeoutils==0.15->pygeohydro) (1.6.4)\n",
      "Requirement already satisfied: rasterio>=1.2 in c:\\users\\tjame\\desktop\\personal\\aquaticalgorithms\\venv\\lib\\site-packages (from pygeoutils==0.15->pygeohydro) (1.3.8)\n",
      "Requirement already satisfied: networkx in c:\\users\\tjame\\desktop\\personal\\aquaticalgorithms\\venv\\lib\\site-packages (from pynhd==0.15->pygeohydro) (3.1)\n",
      "Requirement already satisfied: pyarrow>=1.0.1 in c:\\users\\tjame\\desktop\\personal\\aquaticalgorithms\\venv\\lib\\site-packages (from pynhd==0.15->pygeohydro) (12.0.1)\n",
      "Requirement already satisfied: click>=0.7 in c:\\users\\tjame\\desktop\\personal\\aquaticalgorithms\\venv\\lib\\site-packages (from pydaymet) (8.1.3)\n",
      "Requirement already satisfied: py3dep==0.15 in c:\\users\\tjame\\desktop\\personal\\aquaticalgorithms\\venv\\lib\\site-packages (from pydaymet) (0.15.0)\n",
      "Requirement already satisfied: colorama in c:\\users\\tjame\\desktop\\personal\\aquaticalgorithms\\venv\\lib\\site-packages (from click>=0.7->pydaymet) (0.4.6)\n",
      "Requirement already satisfied: attrs>=19.2.0 in c:\\users\\tjame\\desktop\\personal\\aquaticalgorithms\\venv\\lib\\site-packages (from fiona>=1.8.19->geopandas) (23.1.0)\n",
      "Requirement already satisfied: certifi in c:\\users\\tjame\\desktop\\personal\\aquaticalgorithms\\venv\\lib\\site-packages (from fiona>=1.8.19->geopandas) (2023.5.7)\n",
      "Requirement already satisfied: click-plugins>=1.0 in c:\\users\\tjame\\desktop\\personal\\aquaticalgorithms\\venv\\lib\\site-packages (from fiona>=1.8.19->geopandas) (1.1.1)\n",
      "Requirement already satisfied: cligj>=0.5 in c:\\users\\tjame\\desktop\\personal\\aquaticalgorithms\\venv\\lib\\site-packages (from fiona>=1.8.19->geopandas) (0.7.2)\n",
      "Requirement already satisfied: six in c:\\users\\tjame\\desktop\\personal\\aquaticalgorithms\\venv\\lib\\site-packages (from fiona>=1.8.19->geopandas) (1.16.0)\n",
      "Requirement already satisfied: toolz>=0.8.0 in c:\\users\\tjame\\desktop\\personal\\aquaticalgorithms\\venv\\lib\\site-packages (from cytoolz->pygeohydro) (0.12.0)\n",
      "Requirement already satisfied: cloudpickle>=1.5.0 in c:\\users\\tjame\\desktop\\personal\\aquaticalgorithms\\venv\\lib\\site-packages (from dask->pygeohydro) (2.2.1)\n",
      "Requirement already satisfied: fsspec>=2021.09.0 in c:\\users\\tjame\\desktop\\personal\\aquaticalgorithms\\venv\\lib\\site-packages (from dask->pygeohydro) (2023.6.0)\n",
      "Requirement already satisfied: partd>=1.2.0 in c:\\users\\tjame\\desktop\\personal\\aquaticalgorithms\\venv\\lib\\site-packages (from dask->pygeohydro) (1.4.0)\n",
      "Requirement already satisfied: pyyaml>=5.3.1 in c:\\users\\tjame\\desktop\\personal\\aquaticalgorithms\\venv\\lib\\site-packages (from dask->pygeohydro) (6.0)\n",
      "Requirement already satisfied: importlib-metadata>=4.13.0 in c:\\users\\tjame\\desktop\\personal\\aquaticalgorithms\\venv\\lib\\site-packages (from dask->pygeohydro) (6.7.0)\n",
      "Requirement already satisfied: branca>=0.6.0 in c:\\users\\tjame\\desktop\\personal\\aquaticalgorithms\\venv\\lib\\site-packages (from folium->pygeohydro) (0.6.0)\n",
      "Requirement already satisfied: jinja2>=2.9 in c:\\users\\tjame\\desktop\\personal\\aquaticalgorithms\\venv\\lib\\site-packages (from folium->pygeohydro) (3.1.2)\n",
      "Requirement already satisfied: h5py in c:\\users\\tjame\\desktop\\personal\\aquaticalgorithms\\venv\\lib\\site-packages (from h5netcdf->pygeohydro) (3.9.0)\n",
      "Requirement already satisfied: itsdangerous>=2.0 in c:\\users\\tjame\\desktop\\personal\\aquaticalgorithms\\venv\\lib\\site-packages (from aiohttp-client-cache>=0.8.1->async-retriever==0.15->pygeohydro) (2.1.2)\n",
      "Requirement already satisfied: python-forge<19.0,>=18.6 in c:\\users\\tjame\\desktop\\personal\\aquaticalgorithms\\venv\\lib\\site-packages (from aiohttp-client-cache>=0.8.1->async-retriever==0.15->pygeohydro) (18.6.0)\n",
      "Requirement already satisfied: charset-normalizer<4.0,>=2.0 in c:\\users\\tjame\\desktop\\personal\\aquaticalgorithms\\venv\\lib\\site-packages (from aiohttp[speedups]>=3.8.3->async-retriever==0.15->pygeohydro) (3.1.0)\n",
      "Requirement already satisfied: async-timeout<5.0,>=4.0.0a3 in c:\\users\\tjame\\desktop\\personal\\aquaticalgorithms\\venv\\lib\\site-packages (from aiohttp[speedups]>=3.8.3->async-retriever==0.15->pygeohydro) (4.0.2)\n",
      "Requirement already satisfied: frozenlist>=1.1.1 in c:\\users\\tjame\\desktop\\personal\\aquaticalgorithms\\venv\\lib\\site-packages (from aiohttp[speedups]>=3.8.3->async-retriever==0.15->pygeohydro) (1.3.3)\n",
      "Requirement already satisfied: aiosignal>=1.1.2 in c:\\users\\tjame\\desktop\\personal\\aquaticalgorithms\\venv\\lib\\site-packages (from aiohttp[speedups]>=3.8.3->async-retriever==0.15->pygeohydro) (1.3.1)\n",
      "Requirement already satisfied: aiodns in c:\\users\\tjame\\desktop\\personal\\aquaticalgorithms\\venv\\lib\\site-packages (from aiohttp[speedups]>=3.8.3->async-retriever==0.15->pygeohydro) (3.0.0)\n",
      "Requirement already satisfied: Brotli in c:\\users\\tjame\\desktop\\personal\\aquaticalgorithms\\venv\\lib\\site-packages (from aiohttp[speedups]>=3.8.3->async-retriever==0.15->pygeohydro) (1.0.9)\n",
      "Requirement already satisfied: zipp>=0.5 in c:\\users\\tjame\\desktop\\personal\\aquaticalgorithms\\venv\\lib\\site-packages (from importlib-metadata>=4.13.0->dask->pygeohydro) (3.15.0)\n",
      "Requirement already satisfied: MarkupSafe>=2.0 in c:\\users\\tjame\\desktop\\personal\\aquaticalgorithms\\venv\\lib\\site-packages (from jinja2>=2.9->folium->pygeohydro) (2.1.3)\n",
      "Requirement already satisfied: lxml in c:\\users\\tjame\\desktop\\personal\\aquaticalgorithms\\venv\\lib\\site-packages (from owslib>=0.27.2->pygeoogc==0.15->pygeohydro) (4.9.2)\n",
      "Requirement already satisfied: locket in c:\\users\\tjame\\desktop\\personal\\aquaticalgorithms\\venv\\lib\\site-packages (from partd>=1.2.0->dask->pygeohydro) (1.0.0)\n",
      "Requirement already satisfied: affine in c:\\users\\tjame\\desktop\\personal\\aquaticalgorithms\\venv\\lib\\site-packages (from rasterio>=1.2->pygeoutils==0.15->pygeohydro) (2.4.0)\n",
      "Requirement already satisfied: snuggs>=1.4.1 in c:\\users\\tjame\\desktop\\personal\\aquaticalgorithms\\venv\\lib\\site-packages (from rasterio>=1.2->pygeoutils==0.15->pygeohydro) (1.4.7)\n",
      "Requirement already satisfied: setuptools in c:\\users\\tjame\\desktop\\personal\\aquaticalgorithms\\venv\\lib\\site-packages (from rasterio>=1.2->pygeoutils==0.15->pygeohydro) (67.8.0)\n",
      "Requirement already satisfied: idna<4,>=2.5 in c:\\users\\tjame\\desktop\\personal\\aquaticalgorithms\\venv\\lib\\site-packages (from requests->pygeoogc==0.15->pygeohydro) (3.4)\n",
      "Requirement already satisfied: cattrs>=22.2 in c:\\users\\tjame\\desktop\\personal\\aquaticalgorithms\\venv\\lib\\site-packages (from requests-cache>=0.9.6->pygeoogc==0.15->pygeohydro) (23.1.2)\n",
      "Requirement already satisfied: platformdirs>=2.5 in c:\\users\\tjame\\desktop\\personal\\aquaticalgorithms\\venv\\lib\\site-packages (from requests-cache>=0.9.6->pygeoogc==0.15->pygeohydro) (3.8.0)\n",
      "Requirement already satisfied: cftime in c:\\users\\tjame\\desktop\\personal\\aquaticalgorithms\\venv\\lib\\site-packages (from netcdf4->pygeoutils==0.15->pygeohydro) (1.6.2)\n",
      "Requirement already satisfied: exceptiongroup in c:\\users\\tjame\\desktop\\personal\\aquaticalgorithms\\venv\\lib\\site-packages (from cattrs>=22.2->requests-cache>=0.9.6->pygeoogc==0.15->pygeohydro) (1.1.1)\n",
      "Requirement already satisfied: typing_extensions>=4.1.0 in c:\\users\\tjame\\desktop\\personal\\aquaticalgorithms\\venv\\lib\\site-packages (from cattrs>=22.2->requests-cache>=0.9.6->pygeoogc==0.15->pygeohydro) (4.7.1)\n",
      "Requirement already satisfied: pycares>=4.0.0 in c:\\users\\tjame\\desktop\\personal\\aquaticalgorithms\\venv\\lib\\site-packages (from aiodns->aiohttp[speedups]>=3.8.3->async-retriever==0.15->pygeohydro) (4.3.0)\n",
      "Requirement already satisfied: cffi>=1.5.0 in c:\\users\\tjame\\desktop\\personal\\aquaticalgorithms\\venv\\lib\\site-packages (from pycares>=4.0.0->aiodns->aiohttp[speedups]>=3.8.3->async-retriever==0.15->pygeohydro) (1.15.1)\n",
      "Requirement already satisfied: pycparser in c:\\users\\tjame\\desktop\\personal\\aquaticalgorithms\\venv\\lib\\site-packages (from cffi>=1.5.0->pycares>=4.0.0->aiodns->aiohttp[speedups]>=3.8.3->async-retriever==0.15->pygeohydro) (2.21)\n"
     ]
    },
    {
     "name": "stderr",
     "output_type": "stream",
     "text": [
      "\n",
      "[notice] A new release of pip is available: 23.1.2 -> 23.2.1\n",
      "[notice] To update, run: python.exe -m pip install --upgrade pip\n"
     ]
    }
   ],
   "source": [
    "# Install the packages we will use here\n",
    "!pip install numpy matplotlib pandas geopandas pygeohydro pydaymet seaborn"
   ]
  },
  {
   "cell_type": "markdown",
   "metadata": {},
   "source": [
    "***\n",
    "## Step 0: Choose your case study location\n",
    "\n",
    "Before getting started with the code, vist the [USGS National Water Dashboard](https://dashboard.waterdata.usgs.gov/app/nwd/en/?region=lower48&aoi=default) and find your case study, then select one streamflow gauge to use for this analysis and assign it to the variable (`station_id`) below.\n",
    "\n",
    "After choosing a gauge location, find the coordinates for the spot.  These do not have to be perfect, just roughly in the area or upstream of the gauge.  Save these in the `coordinates` list below.\n",
    "\n",
    "> **Note:** This code, and others used during the internship will make different results based on the unique gauge you choose... feel free to try different gauges by changing the `station_id` and re-running the code.\n",
    " "
   ]
  },
  {
   "cell_type": "code",
   "execution_count": 26,
   "metadata": {},
   "outputs": [],
   "source": [
    "# Add your own gauge ID here (make sure it is a string):\n",
    "station_id = '04234000'\n",
    "\n",
    "# Set the [longitude, latitude] of the gauge location\n",
    "coordinates = [-76.494856, 42.458977]\n",
    "\n",
    "# Add the time-range of interest\n",
    "dates = (\"1900-01-01\", \"2022-12-31\")"
   ]
  },
  {
   "attachments": {},
   "cell_type": "markdown",
   "metadata": {},
   "source": [
    "***\n",
    "## Step 1: Get data\n",
    "\n",
    "We can get streamflow from the USGS website directly, but this tends to be more difficult and requires manually manipulating the data before we can use it.  Fortunately, there is an open-source Python package called `pygeohydro` which makes it each retrieve streamflow data more easily.\n",
    "\n",
    "You can visit the [documentation for the PyGeoHydro](https://hyriver.readthedocs.io/en/latest/readme/pygeohydro.html) if you want to read more above the technical details at any point.\n",
    "\n",
    "Let's start by importing the `pygeohydro` library.  We will also want to import the `numpy`, `pandas`, and `matplotlib` libraries (we will do this in almost all notebooks):"
   ]
  },
  {
   "cell_type": "code",
   "execution_count": 29,
   "metadata": {},
   "outputs": [],
   "source": [
    "import pandas as pd\n",
    "import numpy as np\n",
    "import seaborn as sns\n",
    "import pandas as pd\n",
    "import matplotlib.pyplot as plt\n",
    "import matplotlib.dates as mdates\n",
    "import matplotlib.cm as cm\n",
    "import numpy as np\n",
    "\n",
    "import pygeohydro as gh\n",
    "from pygeohydro import NWIS\n",
    "\n",
    "import pydaymet as daymet\n",
    "\n",
    "from AquaticAlgorithms.plotting.timeseries_plots import plot_streamflow_by_year\n"
   ]
  },
  {
   "cell_type": "markdown",
   "metadata": {},
   "source": [
    "With the packages ready to go, we can start getting our data!\n",
    "\n",
    "We will use the funciton `pygeohydro.NWIS().get_streamflow()`.   Notice how this is a funciton, inside of a function, inside of the `pygeohydro` package.\n",
    "\n",
    "This function just needs the `station_id` and the `dates` that we want to get data for.  \n",
    "\n",
    "It is going to `return` a `pandas.DataFrame` (which is like an Excel table) containing our data.  \n",
    "\n",
    "Let's go!"
   ]
  },
  {
   "cell_type": "code",
   "execution_count": 16,
   "metadata": {},
   "outputs": [
    {
     "data": {
      "text/html": [
       "<div>\n",
       "<style scoped>\n",
       "    .dataframe tbody tr th:only-of-type {\n",
       "        vertical-align: middle;\n",
       "    }\n",
       "\n",
       "    .dataframe tbody tr th {\n",
       "        vertical-align: top;\n",
       "    }\n",
       "\n",
       "    .dataframe thead th {\n",
       "        text-align: right;\n",
       "    }\n",
       "</style>\n",
       "<table border=\"1\" class=\"dataframe\">\n",
       "  <thead>\n",
       "    <tr style=\"text-align: right;\">\n",
       "      <th></th>\n",
       "      <th>USGS-04234000</th>\n",
       "    </tr>\n",
       "  </thead>\n",
       "  <tbody>\n",
       "    <tr>\n",
       "      <th>1925-02-15</th>\n",
       "      <td>4.336560</td>\n",
       "    </tr>\n",
       "    <tr>\n",
       "      <th>1925-02-16</th>\n",
       "      <td>2.930916</td>\n",
       "    </tr>\n",
       "    <tr>\n",
       "      <th>1925-02-17</th>\n",
       "      <td>2.938393</td>\n",
       "    </tr>\n",
       "    <tr>\n",
       "      <th>1925-02-18</th>\n",
       "      <td>2.100988</td>\n",
       "    </tr>\n",
       "    <tr>\n",
       "      <th>1925-02-19</th>\n",
       "      <td>1.996313</td>\n",
       "    </tr>\n",
       "  </tbody>\n",
       "</table>\n",
       "</div>"
      ],
      "text/plain": [
       "            USGS-04234000\n",
       "1925-02-15       4.336560\n",
       "1925-02-16       2.930916\n",
       "1925-02-17       2.938393\n",
       "1925-02-18       2.100988\n",
       "1925-02-19       1.996313"
      ]
     },
     "execution_count": 16,
     "metadata": {},
     "output_type": "execute_result"
    }
   ],
   "source": [
    "# Request the flow data\n",
    "flow = NWIS().get_streamflow(station_id, dates, mmd=True)\n",
    "\n",
    "# Set the date as the 'index'\n",
    "flow.index = pd.to_datetime(flow.index.date)\n",
    "\n",
    "# Look at the first few values\n",
    "flow.head()\n"
   ]
  },
  {
   "cell_type": "markdown",
   "metadata": {},
   "source": [
    "Great!  You should see a small table with dates on the left, numbers on the right, and the gauge station ID at the top!\n",
    "\n",
    "We did not previously learn about `pandas.DataFrame` variables, so this is a good chance to get the basics. \n",
    "\n",
    "When using lists (`[1,2,3]`) we learned about *indexing* which is how we get the number in a specific position in the list.  Data Frames are like very fancy lists, which have *indices* that can be named in useful ways.  The first index is the Row, and the second index is the Column.  \n",
    "\n",
    "In these activities, the Row will always have Date information, and we can get values for a specific date range.  This is very helpful. \n",
    "\n",
    "We can then get specific values using the date and column name by specifying the *location* using `dataframe_name.loc[]`, like this: \n",
    "\n",
    "`my_dataframe.loc['2000-01-01':'2005-01-01', 'USGS-04234000']`\n",
    "\n",
    "Check to see the streamflow value on Christmas day, 2005:"
   ]
  },
  {
   "cell_type": "code",
   "execution_count": 37,
   "metadata": {},
   "outputs": [
    {
     "name": "stdout",
     "output_type": "stream",
     "text": [
      "The flow on Christmas Day 2005 was 1.58 cfs\n"
     ]
    }
   ],
   "source": [
    "# Get the flow value\n",
    "christmas_flow = flow.loc['2005-12-25', f'USGS-{station_id}']\n",
    "\n",
    "# Print the result\n",
    "print(f'The flow on Christmas Day 2005 was {christmas_flow:.2f} cfs')"
   ]
  },
  {
   "cell_type": "code",
   "execution_count": 57,
   "metadata": {},
   "outputs": [
    {
     "data": {
      "text/html": [
       "<div>\n",
       "<style scoped>\n",
       "    .dataframe tbody tr th:only-of-type {\n",
       "        vertical-align: middle;\n",
       "    }\n",
       "\n",
       "    .dataframe tbody tr th {\n",
       "        vertical-align: top;\n",
       "    }\n",
       "\n",
       "    .dataframe thead th {\n",
       "        text-align: right;\n",
       "    }\n",
       "</style>\n",
       "<table border=\"1\" class=\"dataframe\">\n",
       "  <thead>\n",
       "    <tr style=\"text-align: right;\">\n",
       "      <th></th>\n",
       "      <th>dayl (s)</th>\n",
       "      <th>prcp (mm/day)</th>\n",
       "      <th>srad (W/m2)</th>\n",
       "      <th>swe (kg/m2)</th>\n",
       "      <th>tmax (degrees C)</th>\n",
       "      <th>tmin (degrees C)</th>\n",
       "      <th>vp (Pa)</th>\n",
       "    </tr>\n",
       "  </thead>\n",
       "  <tbody>\n",
       "    <tr>\n",
       "      <th>1980-01-01</th>\n",
       "      <td>32214.619141</td>\n",
       "      <td>0.00</td>\n",
       "      <td>204.839996</td>\n",
       "      <td>18.799999</td>\n",
       "      <td>1.81</td>\n",
       "      <td>-6.46</td>\n",
       "      <td>376.890015</td>\n",
       "    </tr>\n",
       "    <tr>\n",
       "      <th>1980-01-02</th>\n",
       "      <td>32260.240234</td>\n",
       "      <td>0.00</td>\n",
       "      <td>165.460007</td>\n",
       "      <td>18.430000</td>\n",
       "      <td>1.03</td>\n",
       "      <td>-5.13</td>\n",
       "      <td>417.220001</td>\n",
       "    </tr>\n",
       "    <tr>\n",
       "      <th>1980-01-03</th>\n",
       "      <td>32309.589844</td>\n",
       "      <td>0.37</td>\n",
       "      <td>109.169998</td>\n",
       "      <td>18.799999</td>\n",
       "      <td>-2.67</td>\n",
       "      <td>-6.47</td>\n",
       "      <td>376.450012</td>\n",
       "    </tr>\n",
       "    <tr>\n",
       "      <th>1980-01-04</th>\n",
       "      <td>32362.630859</td>\n",
       "      <td>0.00</td>\n",
       "      <td>221.940002</td>\n",
       "      <td>18.799999</td>\n",
       "      <td>-5.00</td>\n",
       "      <td>-13.98</td>\n",
       "      <td>207.449997</td>\n",
       "    </tr>\n",
       "    <tr>\n",
       "      <th>1980-01-05</th>\n",
       "      <td>32419.310547</td>\n",
       "      <td>0.00</td>\n",
       "      <td>249.229996</td>\n",
       "      <td>18.799999</td>\n",
       "      <td>-0.85</td>\n",
       "      <td>-12.32</td>\n",
       "      <td>237.490005</td>\n",
       "    </tr>\n",
       "  </tbody>\n",
       "</table>\n",
       "</div>"
      ],
      "text/plain": [
       "                dayl (s)  prcp (mm/day)  srad (W/m2)  swe (kg/m2)  \\\n",
       "1980-01-01  32214.619141           0.00   204.839996    18.799999   \n",
       "1980-01-02  32260.240234           0.00   165.460007    18.430000   \n",
       "1980-01-03  32309.589844           0.37   109.169998    18.799999   \n",
       "1980-01-04  32362.630859           0.00   221.940002    18.799999   \n",
       "1980-01-05  32419.310547           0.00   249.229996    18.799999   \n",
       "\n",
       "            tmax (degrees C)  tmin (degrees C)     vp (Pa)  \n",
       "1980-01-01              1.81             -6.46  376.890015  \n",
       "1980-01-02              1.03             -5.13  417.220001  \n",
       "1980-01-03             -2.67             -6.47  376.450012  \n",
       "1980-01-04             -5.00            -13.98  207.449997  \n",
       "1980-01-05             -0.85            -12.32  237.490005  "
      ]
     },
     "execution_count": 57,
     "metadata": {},
     "output_type": "execute_result"
    }
   ],
   "source": [
    "# Daymet data is only available 1980-2022\n",
    "climate_data = daymet.get_bycoords(coordinates, ('1980-01-01', '2022-12-30'))\n",
    "\n",
    "# Show the first couple values\n",
    "climate_data.head()"
   ]
  },
  {
   "attachments": {},
   "cell_type": "markdown",
   "metadata": {},
   "source": [
    "## Step 2: Visualize streamflow history\n",
    "\n",
    "The best way to get familiar with a set of data is to look at a variety of different visualizations.  \n",
    "\n",
    "Data scientists must be able to \"tell a story\" with the data they have or else people will not be paying attention.  \n",
    "\n",
    "Let's make a few nice plots to show off the streamflow data that we collected. Here, we are going to use the `matplotlib` package to help make our plots. \n",
    "\n",
    "Be sure to read the comments (`#`) to try and understand what each part of the plotting code is doing.  By understanding how to change small parts of the plot you will later be able to make more unique visuals. "
   ]
  },
  {
   "cell_type": "code",
   "execution_count": 22,
   "metadata": {},
   "outputs": [
    {
     "data": {
      "image/png": "[encoded data removed]",
      "text/plain": [
       "<Figure size 640x480 with 1 Axes>"
      ]
     },
     "metadata": {},
     "output_type": "display_data"
    }
   ],
   "source": [
    "# Set a date range of interest\n",
    "start_date = '2020-01-01'\n",
    "end_date = '2022-01-01'\n",
    "\n",
    "# Create the \"figure\" object\n",
    "fig = plt.figure()\n",
    "\n",
    "# Add a \"subplot\" axis (ax) to the figure; we will add the data onto the subplot\n",
    "ax = fig.add_subplot()\n",
    "\n",
    "# Pick just the data we want\n",
    "x = flow.loc[start_date:end_date, :].index\n",
    "y = flow.loc[start_date:end_date,:]\n",
    "\n",
    "# Add a line plot to the figure\n",
    "ax.plot(x, y, color = 'cornflowerblue', linewidth = 1.5, label = 'Flow')\n",
    "\n",
    "# Modify labels \n",
    "ax.set_xlabel('Date', fontsize = 14)\n",
    "ax.set_ylabel('Flow (cfs)', fontsize = 14)\n",
    "plt.xticks(rotation=90)\n",
    "plt.show()"
   ]
  },
  {
   "cell_type": "markdown",
   "metadata": {},
   "source": [
    "## Step 3: Find times of interest\n",
    "\n",
    "Think back to the purpose of your case study...  we want to find specific times of interest for this region.  Now we can use the stream data to find floods and very dry periods.  \n",
    "\n",
    "Let's start by looking for the days with the highest flow, maybe there were floods that had an impact.\n"
   ]
  },
  {
   "cell_type": "code",
   "execution_count": 47,
   "metadata": {},
   "outputs": [
    {
     "data": {
      "text/html": [
       "<div>\n",
       "<style scoped>\n",
       "    .dataframe tbody tr th:only-of-type {\n",
       "        vertical-align: middle;\n",
       "    }\n",
       "\n",
       "    .dataframe tbody tr th {\n",
       "        vertical-align: top;\n",
       "    }\n",
       "\n",
       "    .dataframe thead th {\n",
       "        text-align: right;\n",
       "    }\n",
       "</style>\n",
       "<table border=\"1\" class=\"dataframe\">\n",
       "  <thead>\n",
       "    <tr style=\"text-align: right;\">\n",
       "      <th></th>\n",
       "      <th>USGS-04234000</th>\n",
       "    </tr>\n",
       "  </thead>\n",
       "  <tbody>\n",
       "    <tr>\n",
       "      <th>1935-07-08</th>\n",
       "      <td>61.908127</td>\n",
       "    </tr>\n",
       "    <tr>\n",
       "      <th>1981-10-28</th>\n",
       "      <td>52.786398</td>\n",
       "    </tr>\n",
       "    <tr>\n",
       "      <th>1996-01-19</th>\n",
       "      <td>38.131818</td>\n",
       "    </tr>\n",
       "    <tr>\n",
       "      <th>2005-04-03</th>\n",
       "      <td>37.458903</td>\n",
       "    </tr>\n",
       "    <tr>\n",
       "      <th>1936-03-18</th>\n",
       "      <td>30.430686</td>\n",
       "    </tr>\n",
       "  </tbody>\n",
       "</table>\n",
       "</div>"
      ],
      "text/plain": [
       "            USGS-04234000\n",
       "1935-07-08      61.908127\n",
       "1981-10-28      52.786398\n",
       "1996-01-19      38.131818\n",
       "2005-04-03      37.458903\n",
       "1936-03-18      30.430686"
      ]
     },
     "execution_count": 47,
     "metadata": {},
     "output_type": "execute_result"
    }
   ],
   "source": [
    "# Look at the days with the highest flow\n",
    "flow.sort_values(by=f'USGS-{station_id}', ascending=False).head(5)"
   ]
  },
  {
   "cell_type": "markdown",
   "metadata": {},
   "source": [
    "Now you've got a few different dates to start looking more into.  Try Googling \"flooding in {your location} on {one of the dates above}\".   This is a good time to start taking notes!"
   ]
  },
  {
   "cell_type": "markdown",
   "metadata": {},
   "source": [
    "## Step N: Export data\n",
    "\n",
    "Now that we have all this data available, we want to save it so that we can use it again later. \n",
    "\n",
    "Luckily, the `pandas` library makes this very easy for us. \n",
    "\n",
    "We are going to save the data as a CSV which stands for \"Comma Separated Values\".  This is the same type of file that you use when you open something on Excel. \n",
    "\n",
    "We are going to put all the data inside a folder called 'Data'.  ***Start by making a new folder in the same location as this file, and name it Data.***\n",
    "\n",
    "Once you have your Data folder ready, run the following. "
   ]
  },
  {
   "cell_type": "code",
   "execution_count": 58,
   "metadata": {},
   "outputs": [],
   "source": [
    "# Save the streamflow\n",
    "flow.to_csv('./Data/streamflow.csv', sep=',')\n",
    "\n",
    "# Save the climate data\n",
    "climate_data.to_csv('./Data/climate_data.csv', sep=',')"
   ]
  },
  {
   "cell_type": "markdown",
   "metadata": {},
   "source": [
    "Take a minute to go look inside the Data folder and make sure youre files are there...\n",
    "\n",
    "Later we will see how to *load* this data from the files that we just saved. \n",
    "\n",
    "But this is the end of the work for now, nice job!"
   ]
  },
  {
   "cell_type": "markdown",
   "metadata": {},
   "source": []
  },
  {
   "cell_type": "markdown",
   "metadata": {},
   "source": []
  },
  {
   "cell_type": "code",
   "execution_count": 10,
   "metadata": {},
   "outputs": [],
   "source": [
    "def plot_streamflow_by_year(df, log_scale=False, \n",
    "                            save_fig=False, save_name='streamflow_by_year.png'):\n",
    "    \n",
    "    # Create a new column for the year\n",
    "    df['Year'] = df.index.year\n",
    "    \n",
    "    # Calculate the total streamflow for each year\n",
    "    df['Total_Streamflow'] = df.groupby('Year')['streamflow'].transform('sum')\n",
    "\n",
    "    # Sort the dataframe by the total streamflow for each year\n",
    "    sorted_df = df.sort_values('Total_Streamflow', inplace=False)\n",
    "\n",
    "    # Create a colormap to map each year to a color based on its total streamflow\n",
    "    colormap = cm.get_cmap('viridis')\n",
    "    colors = colormap(np.linspace(0, 1, sorted_df['Year'].nunique()))\n",
    "\n",
    "    # Create a new figure\n",
    "    fig, ax = plt.subplots()\n",
    "\n",
    "    # Plot the streamflow for each year\n",
    "    for i, year in enumerate(df['Year'].unique()):\n",
    "        df_year = df[df['Year'] == year]\n",
    "        ax.plot(df_year.index.dayofyear, df_year['streamflow'], \n",
    "                color=colors[i], label=year, alpha=0.3)\n",
    "\n",
    "    # Set the y-axis to a log scale if specified\n",
    "    if log_scale:\n",
    "        ax.set_yscale('log')\n",
    "\n",
    "    # Set the x-axis to show only the month\n",
    "    ax.xaxis.set_major_locator(mdates.MonthLocator())\n",
    "    ax.xaxis.set_major_formatter(mdates.DateFormatter('%b'))\n",
    "    \n",
    "    # Save the figure if specified\n",
    "    if save_fig:\n",
    "        plt.savefig(save_name)\n",
    "\n",
    "    # Show the plot\n",
    "    plt.show()\n",
    "    return"
   ]
  },
  {
   "cell_type": "code",
   "execution_count": 11,
   "metadata": {},
   "outputs": [],
   "source": [
    "def plot_streamflow_by_year(df, log_scale=False, \n",
    "                            save_fig=False, save_name='streamflow_by_year.png',\n",
    "                            group_by='day', fill_range=False,\n",
    "                            highlight_driest_year=False, highlight_wettest_year=False):\n",
    "\n",
    "    # Create a new column for the year\n",
    "    df = df.copy()\n",
    "    df['Year'] = df.index.year\n",
    "\n",
    "    # Group by the specified period\n",
    "    if group_by == 'month':\n",
    "        df_grouped = df.groupby([df.index.year.rename('Year'), df.index.month.rename('Month')])['streamflow'].sum()\n",
    "        df_grouped.index.names = ['Year', 'Period']\n",
    "    elif group_by == 'week':\n",
    "        df_grouped = df.groupby([df.index.year.rename('Year'), df.index.weekofyear.rename('Week')])['streamflow'].sum()\n",
    "        df_grouped.index.names = ['Year', 'Period']\n",
    "    else:\n",
    "        df_grouped = df.groupby([df.index.year.rename('Year'), df.index.dayofyear.rename('Day')])['streamflow'].mean()\n",
    "        df_grouped.index.names = ['Year', 'Period']\n",
    "\n",
    "    # Calculate the total streamflow for each year\n",
    "    df_grouped = df_grouped.reset_index()\n",
    "    df_grouped['Total_Streamflow'] = df_grouped.groupby('Year')['streamflow'].transform('sum')\n",
    "\n",
    "    # Identify the driest and wettest years\n",
    "    driest_year = df_grouped.groupby('Year')['Total_Streamflow'].sum().idxmin() if highlight_driest_year else None\n",
    "    wettest_year = df_grouped.groupby('Year')['Total_Streamflow'].sum().idxmax() if highlight_wettest_year else None\n",
    "\n",
    "    # Sort the dataframe by the total streamflow for each year\n",
    "    sorted_df = df_grouped.sort_values('Total_Streamflow', inplace=False)\n",
    "\n",
    "    # Create a colormap to map each year to a color based on its total streamflow\n",
    "    colormap = cm.get_cmap('viridis')\n",
    "    colors = colormap(np.linspace(0, 1, sorted_df['Year'].nunique()))\n",
    "\n",
    "    # Create a new figure\n",
    "    fig, ax = plt.subplots()\n",
    "\n",
    "    # Plot the streamflow for each year\n",
    "    for i, year in enumerate(sorted_df['Year'].unique()):\n",
    "        df_year = sorted_df[sorted_df['Year'] == year]\n",
    "        if fill_range:\n",
    "            ax.fill_between(df_year['Period'], df_year['streamflow'].min(), df_year['streamflow'].max(), \n",
    "                            color=colors[i], alpha=0.3, label=year)\n",
    "        else:\n",
    "            ax.plot(df_year['Period'], df_year['streamflow'], color=colors[i], alpha=0.3, label=year)\n",
    "        \n",
    "        if year == driest_year:\n",
    "            ax.plot(df_year['Period'], df_year['streamflow'], color='red', linewidth=2, label=f'{year} (Driest)')\n",
    "        if year == wettest_year:\n",
    "            ax.plot(df_year['Period'], df_year['streamflow'], color='blue', linewidth=2, label=f'{year} (Wettest)')\n",
    "\n",
    "    # Set the y-axis to a log scale if specified\n",
    "    if log_scale:\n",
    "        ax.set_yscale('log')\n",
    "\n",
    "    # Set the x-axis to show only the month\n",
    "    ax.xaxis.set_major_locator(mdates.MonthLocator())\n",
    "    ax.xaxis.set_major_formatter(mdates.DateFormatter('%b'))\n",
    "    \n",
    "\n",
    "    # Save the figure if specified\n",
    "    if save_fig:\n",
    "        plt.savefig(save_name)\n",
    "\n",
    "    # Show the plot\n",
    "    plt.show()\n",
    "    return\n",
    "\n"
   ]
  },
  {
   "cell_type": "code",
   "execution_count": 12,
   "metadata": {},
   "outputs": [
    {
     "name": "stderr",
     "output_type": "stream",
     "text": [
      "C:\\Users\\tjame\\AppData\\Local\\Temp\\ipykernel_11140\\3373443773.py:33: MatplotlibDeprecationWarning: The get_cmap function was deprecated in Matplotlib 3.7 and will be removed two minor releases later. Use ``matplotlib.colormaps[name]`` or ``matplotlib.colormaps.get_cmap(obj)`` instead.\n",
      "  colormap = cm.get_cmap('viridis')\n"
     ]
    },
    {
     "data": {
      "image/png": "[encoded data removed]",
      "text/plain": [
       "<Figure size 640x480 with 1 Axes>"
      ]
     },
     "metadata": {},
     "output_type": "display_data"
    }
   ],
   "source": [
    "\n",
    "plot_streamflow_by_year(flow, log_scale=True,\n",
    "                        group_by='day', fill_range=True)\n"
   ]
  },
  {
   "cell_type": "code",
   "execution_count": null,
   "metadata": {},
   "outputs": [],
   "source": []
  }
 ],
 "metadata": {
  "kernelspec": {
   "display_name": "Python 3",
   "language": "python",
   "name": "python3"
  },
  "language_info": {
   "codemirror_mode": {
    "name": "ipython",
    "version": 3
   },
   "file_extension": ".py",
   "mimetype": "text/x-python",
   "name": "python",
   "nbconvert_exporter": "python",
   "pygments_lexer": "ipython3",
   "version": "3.10.10"
  },
  "orig_nbformat": 4
 },
 "nbformat": 4,
 "nbformat_minor": 2
}
